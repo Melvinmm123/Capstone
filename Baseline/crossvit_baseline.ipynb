{
  "nbformat": 4,
  "nbformat_minor": 0,
  "metadata": {
    "colab": {
      "provenance": [],
      "gpuType": "T4"
    },
    "kernelspec": {
      "name": "python3",
      "display_name": "Python 3"
    },
    "language_info": {
      "name": "python"
    },
    "accelerator": "GPU",
    "widgets": {
      "application/vnd.jupyter.widget-state+json": {
        "81c9822245f3498983756cf6f6048386": {
          "model_module": "@jupyter-widgets/controls",
          "model_name": "HBoxModel",
          "model_module_version": "1.5.0",
          "state": {
            "_dom_classes": [],
            "_model_module": "@jupyter-widgets/controls",
            "_model_module_version": "1.5.0",
            "_model_name": "HBoxModel",
            "_view_count": null,
            "_view_module": "@jupyter-widgets/controls",
            "_view_module_version": "1.5.0",
            "_view_name": "HBoxView",
            "box_style": "",
            "children": [
              "IPY_MODEL_bb5a8b8fb4f54a5ea9d7b66e4348fa57",
              "IPY_MODEL_bc9e052a5d7b4ae3bc6c2e1f5b0b98d7",
              "IPY_MODEL_89453ed242794f7e8c6b4d151b485b07"
            ],
            "layout": "IPY_MODEL_e7f4e491e4ce43689f98744d1c9edd5b"
          }
        },
        "bb5a8b8fb4f54a5ea9d7b66e4348fa57": {
          "model_module": "@jupyter-widgets/controls",
          "model_name": "HTMLModel",
          "model_module_version": "1.5.0",
          "state": {
            "_dom_classes": [],
            "_model_module": "@jupyter-widgets/controls",
            "_model_module_version": "1.5.0",
            "_model_name": "HTMLModel",
            "_view_count": null,
            "_view_module": "@jupyter-widgets/controls",
            "_view_module_version": "1.5.0",
            "_view_name": "HTMLView",
            "description": "",
            "description_tooltip": null,
            "layout": "IPY_MODEL_be41e70ff8a145f0883d009b19eebaa4",
            "placeholder": "​",
            "style": "IPY_MODEL_7b1560444cc145bbb76fcdcd3e6bd9d7",
            "value": "model.safetensors: 100%"
          }
        },
        "bc9e052a5d7b4ae3bc6c2e1f5b0b98d7": {
          "model_module": "@jupyter-widgets/controls",
          "model_name": "FloatProgressModel",
          "model_module_version": "1.5.0",
          "state": {
            "_dom_classes": [],
            "_model_module": "@jupyter-widgets/controls",
            "_model_module_version": "1.5.0",
            "_model_name": "FloatProgressModel",
            "_view_count": null,
            "_view_module": "@jupyter-widgets/controls",
            "_view_module_version": "1.5.0",
            "_view_name": "ProgressView",
            "bar_style": "success",
            "description": "",
            "description_tooltip": null,
            "layout": "IPY_MODEL_a1684811391547ae9855034dfbf9da73",
            "max": 110148080,
            "min": 0,
            "orientation": "horizontal",
            "style": "IPY_MODEL_b34c29d5e7524fc9bb1a9d9a20d6c8c3",
            "value": 110148080
          }
        },
        "89453ed242794f7e8c6b4d151b485b07": {
          "model_module": "@jupyter-widgets/controls",
          "model_name": "HTMLModel",
          "model_module_version": "1.5.0",
          "state": {
            "_dom_classes": [],
            "_model_module": "@jupyter-widgets/controls",
            "_model_module_version": "1.5.0",
            "_model_name": "HTMLModel",
            "_view_count": null,
            "_view_module": "@jupyter-widgets/controls",
            "_view_module_version": "1.5.0",
            "_view_name": "HTMLView",
            "description": "",
            "description_tooltip": null,
            "layout": "IPY_MODEL_9cd81e22ae1c4207912d215e13b25255",
            "placeholder": "​",
            "style": "IPY_MODEL_0242e94de3fd41c99402a6edef305afa",
            "value": " 110M/110M [00:00&lt;00:00, 232MB/s]"
          }
        },
        "e7f4e491e4ce43689f98744d1c9edd5b": {
          "model_module": "@jupyter-widgets/base",
          "model_name": "LayoutModel",
          "model_module_version": "1.2.0",
          "state": {
            "_model_module": "@jupyter-widgets/base",
            "_model_module_version": "1.2.0",
            "_model_name": "LayoutModel",
            "_view_count": null,
            "_view_module": "@jupyter-widgets/base",
            "_view_module_version": "1.2.0",
            "_view_name": "LayoutView",
            "align_content": null,
            "align_items": null,
            "align_self": null,
            "border": null,
            "bottom": null,
            "display": null,
            "flex": null,
            "flex_flow": null,
            "grid_area": null,
            "grid_auto_columns": null,
            "grid_auto_flow": null,
            "grid_auto_rows": null,
            "grid_column": null,
            "grid_gap": null,
            "grid_row": null,
            "grid_template_areas": null,
            "grid_template_columns": null,
            "grid_template_rows": null,
            "height": null,
            "justify_content": null,
            "justify_items": null,
            "left": null,
            "margin": null,
            "max_height": null,
            "max_width": null,
            "min_height": null,
            "min_width": null,
            "object_fit": null,
            "object_position": null,
            "order": null,
            "overflow": null,
            "overflow_x": null,
            "overflow_y": null,
            "padding": null,
            "right": null,
            "top": null,
            "visibility": null,
            "width": null
          }
        },
        "be41e70ff8a145f0883d009b19eebaa4": {
          "model_module": "@jupyter-widgets/base",
          "model_name": "LayoutModel",
          "model_module_version": "1.2.0",
          "state": {
            "_model_module": "@jupyter-widgets/base",
            "_model_module_version": "1.2.0",
            "_model_name": "LayoutModel",
            "_view_count": null,
            "_view_module": "@jupyter-widgets/base",
            "_view_module_version": "1.2.0",
            "_view_name": "LayoutView",
            "align_content": null,
            "align_items": null,
            "align_self": null,
            "border": null,
            "bottom": null,
            "display": null,
            "flex": null,
            "flex_flow": null,
            "grid_area": null,
            "grid_auto_columns": null,
            "grid_auto_flow": null,
            "grid_auto_rows": null,
            "grid_column": null,
            "grid_gap": null,
            "grid_row": null,
            "grid_template_areas": null,
            "grid_template_columns": null,
            "grid_template_rows": null,
            "height": null,
            "justify_content": null,
            "justify_items": null,
            "left": null,
            "margin": null,
            "max_height": null,
            "max_width": null,
            "min_height": null,
            "min_width": null,
            "object_fit": null,
            "object_position": null,
            "order": null,
            "overflow": null,
            "overflow_x": null,
            "overflow_y": null,
            "padding": null,
            "right": null,
            "top": null,
            "visibility": null,
            "width": null
          }
        },
        "7b1560444cc145bbb76fcdcd3e6bd9d7": {
          "model_module": "@jupyter-widgets/controls",
          "model_name": "DescriptionStyleModel",
          "model_module_version": "1.5.0",
          "state": {
            "_model_module": "@jupyter-widgets/controls",
            "_model_module_version": "1.5.0",
            "_model_name": "DescriptionStyleModel",
            "_view_count": null,
            "_view_module": "@jupyter-widgets/base",
            "_view_module_version": "1.2.0",
            "_view_name": "StyleView",
            "description_width": ""
          }
        },
        "a1684811391547ae9855034dfbf9da73": {
          "model_module": "@jupyter-widgets/base",
          "model_name": "LayoutModel",
          "model_module_version": "1.2.0",
          "state": {
            "_model_module": "@jupyter-widgets/base",
            "_model_module_version": "1.2.0",
            "_model_name": "LayoutModel",
            "_view_count": null,
            "_view_module": "@jupyter-widgets/base",
            "_view_module_version": "1.2.0",
            "_view_name": "LayoutView",
            "align_content": null,
            "align_items": null,
            "align_self": null,
            "border": null,
            "bottom": null,
            "display": null,
            "flex": null,
            "flex_flow": null,
            "grid_area": null,
            "grid_auto_columns": null,
            "grid_auto_flow": null,
            "grid_auto_rows": null,
            "grid_column": null,
            "grid_gap": null,
            "grid_row": null,
            "grid_template_areas": null,
            "grid_template_columns": null,
            "grid_template_rows": null,
            "height": null,
            "justify_content": null,
            "justify_items": null,
            "left": null,
            "margin": null,
            "max_height": null,
            "max_width": null,
            "min_height": null,
            "min_width": null,
            "object_fit": null,
            "object_position": null,
            "order": null,
            "overflow": null,
            "overflow_x": null,
            "overflow_y": null,
            "padding": null,
            "right": null,
            "top": null,
            "visibility": null,
            "width": null
          }
        },
        "b34c29d5e7524fc9bb1a9d9a20d6c8c3": {
          "model_module": "@jupyter-widgets/controls",
          "model_name": "ProgressStyleModel",
          "model_module_version": "1.5.0",
          "state": {
            "_model_module": "@jupyter-widgets/controls",
            "_model_module_version": "1.5.0",
            "_model_name": "ProgressStyleModel",
            "_view_count": null,
            "_view_module": "@jupyter-widgets/base",
            "_view_module_version": "1.2.0",
            "_view_name": "StyleView",
            "bar_color": null,
            "description_width": ""
          }
        },
        "9cd81e22ae1c4207912d215e13b25255": {
          "model_module": "@jupyter-widgets/base",
          "model_name": "LayoutModel",
          "model_module_version": "1.2.0",
          "state": {
            "_model_module": "@jupyter-widgets/base",
            "_model_module_version": "1.2.0",
            "_model_name": "LayoutModel",
            "_view_count": null,
            "_view_module": "@jupyter-widgets/base",
            "_view_module_version": "1.2.0",
            "_view_name": "LayoutView",
            "align_content": null,
            "align_items": null,
            "align_self": null,
            "border": null,
            "bottom": null,
            "display": null,
            "flex": null,
            "flex_flow": null,
            "grid_area": null,
            "grid_auto_columns": null,
            "grid_auto_flow": null,
            "grid_auto_rows": null,
            "grid_column": null,
            "grid_gap": null,
            "grid_row": null,
            "grid_template_areas": null,
            "grid_template_columns": null,
            "grid_template_rows": null,
            "height": null,
            "justify_content": null,
            "justify_items": null,
            "left": null,
            "margin": null,
            "max_height": null,
            "max_width": null,
            "min_height": null,
            "min_width": null,
            "object_fit": null,
            "object_position": null,
            "order": null,
            "overflow": null,
            "overflow_x": null,
            "overflow_y": null,
            "padding": null,
            "right": null,
            "top": null,
            "visibility": null,
            "width": null
          }
        },
        "0242e94de3fd41c99402a6edef305afa": {
          "model_module": "@jupyter-widgets/controls",
          "model_name": "DescriptionStyleModel",
          "model_module_version": "1.5.0",
          "state": {
            "_model_module": "@jupyter-widgets/controls",
            "_model_module_version": "1.5.0",
            "_model_name": "DescriptionStyleModel",
            "_view_count": null,
            "_view_module": "@jupyter-widgets/base",
            "_view_module_version": "1.2.0",
            "_view_name": "StyleView",
            "description_width": ""
          }
        }
      }
    }
  },
  "cells": [
    {
      "cell_type": "code",
      "execution_count": null,
      "metadata": {
        "colab": {
          "base_uri": "https://localhost:8080/"
        },
        "id": "oLCyA7PHD8Vo",
        "outputId": "aec15a5c-7ade-48e2-c67e-0666178a7819"
      },
      "outputs": [
        {
          "output_type": "stream",
          "name": "stdout",
          "text": [
            "Mounted at /content/drive\n"
          ]
        }
      ],
      "source": [
        "from google.colab import drive\n",
        "drive.mount('/content/drive')"
      ]
    },
    {
      "cell_type": "code",
      "source": [
        "import os\n",
        "import zipfile\n",
        "\n",
        "# Path to the ZIP file\n",
        "zip_path = \"/content/drive/MyDrive/dataset_crossvit/My First Project.v2i.coco.zip\"\n",
        "\n",
        "# Path to extract the dataset\n",
        "extract_to = \"/content/drive/MyDrive/dataset_crossvit/extracted\"\n",
        "\n",
        "# Function to extract the ZIP file\n",
        "def extract_zip(zip_path, extract_to):\n",
        "    if not os.path.exists(extract_to):\n",
        "        os.makedirs(extract_to)\n",
        "    with zipfile.ZipFile(zip_path, 'r') as zip_ref:\n",
        "        zip_ref.extractall(extract_to)\n",
        "    print(f\"Extracted ZIP file to {extract_to}\")\n",
        "\n",
        "# Execute extraction\n",
        "extract_zip(zip_path, extract_to)\n"
      ],
      "metadata": {
        "colab": {
          "base_uri": "https://localhost:8080/"
        },
        "id": "P5L37u1vEDUm",
        "outputId": "170bc77f-bd19-43e1-eaeb-0b547bc6e3c0"
      },
      "execution_count": null,
      "outputs": [
        {
          "output_type": "stream",
          "name": "stdout",
          "text": [
            "Extracted ZIP file to /content/drive/MyDrive/dataset_crossvit/extracted\n"
          ]
        }
      ]
    },
    {
      "cell_type": "code",
      "source": [
        "print(os.listdir(extract_to))\n"
      ],
      "metadata": {
        "colab": {
          "base_uri": "https://localhost:8080/"
        },
        "id": "En37vTzJENk5",
        "outputId": "b642f14a-8df9-458d-beab-486c1c0c5da8"
      },
      "execution_count": null,
      "outputs": [
        {
          "output_type": "stream",
          "name": "stdout",
          "text": [
            "['README.dataset.txt', 'README.roboflow.txt', 'train', 'valid']\n"
          ]
        }
      ]
    },
    {
      "cell_type": "markdown",
      "source": [
        "### Load Dataset"
      ],
      "metadata": {
        "id": "wSvdHSY7H_92"
      }
    },
    {
      "cell_type": "code",
      "source": [
        "import os\n",
        "import json\n",
        "import torch\n",
        "from torchvision import transforms\n",
        "from torch.utils.data import Dataset, DataLoader\n",
        "import timm\n",
        "from torch import nn, optim\n",
        "from torch.optim import Adam\n",
        "from torch.nn import CrossEntropyLoss\n",
        "from PIL import Image\n",
        "import matplotlib.pyplot as plt\n",
        "\n",
        "train_dir = '/content/drive/MyDrive/dataset_crossvit/extracted/train'\n",
        "valid_dir = '/content/drive/MyDrive/dataset_crossvit/extracted/valid'\n"
      ],
      "metadata": {
        "id": "0hfNnAXaEU8N"
      },
      "execution_count": null,
      "outputs": []
    },
    {
      "cell_type": "markdown",
      "source": [
        "### Define transformations"
      ],
      "metadata": {
        "id": "xEb7nht5IHPx"
      }
    },
    {
      "cell_type": "code",
      "source": [
        "transform = transforms.Compose([\n",
        "    transforms.Resize((224, 224)),          # CrossViT input size\n",
        "    transforms.ToTensor(),                  # Convert image to tensor\n",
        "    transforms.Normalize(mean=[0.5, 0.5, 0.5], std=[0.5, 0.5, 0.5])  # Normalize\n",
        "])\n"
      ],
      "metadata": {
        "id": "pCqICRQSHi3a"
      },
      "execution_count": null,
      "outputs": []
    },
    {
      "cell_type": "code",
      "source": [
        "class RoboflowCocoDataset(Dataset):\n",
        "    def __init__(self, root_dir, annotation_file, transform=None):\n",
        "        \"\"\"\n",
        "        Args:\n",
        "            root_dir (str): Directory with all the images.\n",
        "            annotation_file (str): Path to the COCO JSON annotation file.\n",
        "            transform (callable, optional): Optional transform to be applied on a sample.\n",
        "        \"\"\"\n",
        "        self.root_dir = root_dir\n",
        "        self.transform = transform\n",
        "\n",
        "        # Load COCO annotations\n",
        "        with open(annotation_file, 'r') as f:\n",
        "            self.coco_data = json.load(f)\n",
        "\n",
        "        # Map category IDs to class indices\n",
        "        self.category_map = {cat['id']: idx for idx, cat in enumerate(self.coco_data['categories'])}\n",
        "        self.class_names = [cat['name'] for cat in self.coco_data['categories']]\n",
        "\n",
        "        # Map image IDs to file names\n",
        "        self.image_info = {img['id']: img['file_name'] for img in self.coco_data['images']}\n",
        "\n",
        "        # Map image IDs to labels, filtering out images without annotations\n",
        "        self.annotations = {}\n",
        "        for ann in self.coco_data['annotations']:\n",
        "            img_id = ann['image_id']\n",
        "            if img_id not in self.annotations:\n",
        "                self.annotations[img_id] = []\n",
        "            self.annotations[img_id].append(ann['category_id'])\n",
        "\n",
        "        # Filter images that have annotations\n",
        "        self.valid_image_ids = [img_id for img_id in self.image_info.keys() if img_id in self.annotations]\n",
        "        print(f\"Total images: {len(self.image_info)}, Images with annotations: {len(self.valid_image_ids)}\")\n",
        "\n",
        "        # Debug: Print missing annotations\n",
        "        missing = set(self.image_info.keys()) - set(self.annotations.keys())\n",
        "        if missing:\n",
        "            print(f\"Images missing annotations: {len(missing)}. Example IDs: {list(missing)[:5]}\")\n",
        "\n",
        "    def __len__(self):\n",
        "        return len(self.valid_image_ids)\n",
        "\n",
        "    def __getitem__(self, idx):\n",
        "        img_id = self.valid_image_ids[idx]\n",
        "        img_path = os.path.join(self.root_dir, self.image_info[img_id])\n",
        "        image = Image.open(img_path).convert('RGB')\n",
        "\n",
        "        # Get label (first annotation)\n",
        "        category_id = self.annotations[img_id][0]  # Safe now since we filtered\n",
        "        label = self.category_map[category_id]\n",
        "\n",
        "        if self.transform:\n",
        "            image = self.transform(image)\n",
        "\n",
        "        return image, label"
      ],
      "metadata": {
        "id": "pQ_iRsySHi7f"
      },
      "execution_count": null,
      "outputs": []
    },
    {
      "cell_type": "code",
      "source": [
        "# Load datasets\n",
        "train_annotation_file = os.path.join(train_dir, '_annotations.coco.json')\n",
        "valid_annotation_file = os.path.join(valid_dir, '_annotations.coco.json')\n",
        "\n",
        "train_dataset = RoboflowCocoDataset(train_dir, train_annotation_file, transform=transform)\n",
        "valid_dataset = RoboflowCocoDataset(valid_dir, valid_annotation_file, transform=transform)\n",
        "\n",
        "# Create data loaders\n",
        "train_loader = DataLoader(train_dataset, batch_size=32, shuffle=True, num_workers=2)\n",
        "valid_loader = DataLoader(valid_dataset, batch_size=32, shuffle=False, num_workers=2)\n",
        "\n",
        "# Print dataset info\n",
        "print(\"Classes:\", train_dataset.class_names)\n",
        "print(f\"Training samples: {len(train_dataset)}, Validation samples: {len(valid_dataset)}\")\n"
      ],
      "metadata": {
        "colab": {
          "base_uri": "https://localhost:8080/"
        },
        "id": "nkWySbuAHq73",
        "outputId": "2655523d-67f5-464f-a112-c12123d10f3b"
      },
      "execution_count": null,
      "outputs": [
        {
          "output_type": "stream",
          "name": "stdout",
          "text": [
            "Total images: 1176, Images with annotations: 1170\n",
            "Images missing annotations: 6. Example IDs: [73, 747, 785, 537, 1019]\n",
            "Total images: 289, Images with annotations: 288\n",
            "Images missing annotations: 1. Example IDs: [52]\n",
            "Classes: ['flag-and-pole', 'Ascending Triangle', 'Cup and Handle', 'Descending Triangle', 'Double Bottom', 'Double Top', 'Falling Wedge', 'Head and Shoulder', 'Inverse Head and Shoulder', 'Symmetric Triangle', 'Triple Bottom Reversal', 'flag-and-pole']\n",
            "Training samples: 1170, Validation samples: 288\n"
          ]
        }
      ]
    },
    {
      "cell_type": "markdown",
      "source": [
        "### Model Initialization"
      ],
      "metadata": {
        "id": "opiSIRWJITEB"
      }
    },
    {
      "cell_type": "code",
      "source": [
        "num_classes = len(train_dataset.class_names)\n",
        "model = timm.create_model('crossvit_15_240', pretrained=True, num_classes=num_classes)\n",
        "device = torch.device(\"cuda\" if torch.cuda.is_available() else \"cpu\")\n",
        "model = model.to(device)\n",
        "print(\"Model loaded on:\", device)\n"
      ],
      "metadata": {
        "colab": {
          "base_uri": "https://localhost:8080/",
          "height": 194,
          "referenced_widgets": [
            "81c9822245f3498983756cf6f6048386",
            "bb5a8b8fb4f54a5ea9d7b66e4348fa57",
            "bc9e052a5d7b4ae3bc6c2e1f5b0b98d7",
            "89453ed242794f7e8c6b4d151b485b07",
            "e7f4e491e4ce43689f98744d1c9edd5b",
            "be41e70ff8a145f0883d009b19eebaa4",
            "7b1560444cc145bbb76fcdcd3e6bd9d7",
            "a1684811391547ae9855034dfbf9da73",
            "b34c29d5e7524fc9bb1a9d9a20d6c8c3",
            "9cd81e22ae1c4207912d215e13b25255",
            "0242e94de3fd41c99402a6edef305afa"
          ]
        },
        "id": "YHvxWiVFHq_g",
        "outputId": "0a9fc16c-010f-4433-c173-76c938fd6a19"
      },
      "execution_count": null,
      "outputs": [
        {
          "output_type": "stream",
          "name": "stderr",
          "text": [
            "/usr/local/lib/python3.11/dist-packages/huggingface_hub/utils/_auth.py:94: UserWarning: \n",
            "The secret `HF_TOKEN` does not exist in your Colab secrets.\n",
            "To authenticate with the Hugging Face Hub, create a token in your settings tab (https://huggingface.co/settings/tokens), set it as secret in your Google Colab and restart your session.\n",
            "You will be able to reuse this secret in all of your notebooks.\n",
            "Please note that authentication is recommended but still optional to access public models or datasets.\n",
            "  warnings.warn(\n"
          ]
        },
        {
          "output_type": "display_data",
          "data": {
            "text/plain": [
              "model.safetensors:   0%|          | 0.00/110M [00:00<?, ?B/s]"
            ],
            "application/vnd.jupyter.widget-view+json": {
              "version_major": 2,
              "version_minor": 0,
              "model_id": "81c9822245f3498983756cf6f6048386"
            }
          },
          "metadata": {}
        },
        {
          "output_type": "stream",
          "name": "stdout",
          "text": [
            "Model loaded on: cuda\n"
          ]
        }
      ]
    },
    {
      "cell_type": "markdown",
      "source": [
        "### Training Function"
      ],
      "metadata": {
        "id": "ZBlfO0M8IZpr"
      }
    },
    {
      "cell_type": "code",
      "source": [
        "def train_and_evaluate(model, train_loader, valid_loader, num_epochs=100, lr=0.003):\n",
        "    optimizer = Adam(model.parameters(), lr=lr, weight_decay=1e-4)\n",
        "    criterion = CrossEntropyLoss()\n",
        "    history = {'train_loss': [], 'train_acc': [], 'val_loss': [], 'val_acc': []}\n",
        "\n",
        "    for epoch in range(num_epochs):\n",
        "        model.train()\n",
        "        train_loss, correct_train, total_train = 0.0, 0, 0\n",
        "        for inputs, labels in train_loader:\n",
        "            inputs, labels = inputs.to(device), labels.to(device)\n",
        "            optimizer.zero_grad()\n",
        "            outputs = model(inputs)\n",
        "            loss = criterion(outputs, labels)\n",
        "            loss.backward()\n",
        "            optimizer.step()\n",
        "            train_loss += loss.item() * inputs.size(0)\n",
        "            _, predicted = torch.max(outputs, 1)\n",
        "            correct_train += (predicted == labels).sum().item()\n",
        "            total_train += labels.size(0)\n",
        "        train_loss /= len(train_loader.dataset)\n",
        "        train_acc = correct_train / total_train\n",
        "\n",
        "        model.eval()\n",
        "        val_loss, correct_val, total_val = 0.0, 0, 0\n",
        "        with torch.no_grad():\n",
        "            for inputs, labels in valid_loader:\n",
        "                inputs, labels = inputs.to(device), labels.to(device)\n",
        "                outputs = model(inputs)\n",
        "                loss = criterion(outputs, labels)\n",
        "                val_loss += loss.item() * inputs.size(0)\n",
        "                _, predicted = torch.max(outputs, 1)\n",
        "                correct_val += (predicted == labels).sum().item()\n",
        "                total_val += labels.size(0)\n",
        "        val_loss /= len(valid_loader.dataset)\n",
        "        val_acc = correct_val / total_val\n",
        "\n",
        "        history['train_loss'].append(train_loss)\n",
        "        history['train_acc'].append(train_acc)\n",
        "        history['val_loss'].append(val_loss)\n",
        "        history['val_acc'].append(val_acc)\n",
        "\n",
        "        print(f\"Epoch {epoch+1}/{num_epochs}, \"\n",
        "              f\"Train Loss: {train_loss:.4f}, Train Acc: {train_acc:.4f}, \"\n",
        "              f\"Val Loss: {val_loss:.4f}, Val Acc: {val_acc:.4f}\")\n",
        "\n",
        "    return history\n"
      ],
      "metadata": {
        "id": "5NTKihekHrFh"
      },
      "execution_count": null,
      "outputs": []
    },
    {
      "cell_type": "code",
      "source": [
        "# Train and Evaluate\n",
        "history = train_and_evaluate(model, train_loader, valid_loader, num_epochs=100)\n"
      ],
      "metadata": {
        "colab": {
          "base_uri": "https://localhost:8080/"
        },
        "id": "u3I8JIX8Hi9u",
        "outputId": "a330a35a-f0bd-4f92-a302-3dbcc56beddd"
      },
      "execution_count": null,
      "outputs": [
        {
          "output_type": "stream",
          "name": "stdout",
          "text": [
            "Epoch 1/100, Train Loss: 2.1121, Train Acc: 0.2650, Val Loss: 2.1027, Val Acc: 0.2674\n",
            "Epoch 2/100, Train Loss: 2.0476, Train Acc: 0.2761, Val Loss: 2.0359, Val Acc: 0.2674\n",
            "Epoch 3/100, Train Loss: 2.0457, Train Acc: 0.2838, Val Loss: 2.0285, Val Acc: 0.2674\n",
            "Epoch 4/100, Train Loss: 2.0408, Train Acc: 0.2838, Val Loss: 2.0294, Val Acc: 0.2674\n",
            "Epoch 5/100, Train Loss: 2.0323, Train Acc: 0.2838, Val Loss: 2.0370, Val Acc: 0.2674\n",
            "Epoch 6/100, Train Loss: 2.0310, Train Acc: 0.2838, Val Loss: 2.0303, Val Acc: 0.2674\n",
            "Epoch 7/100, Train Loss: 2.0386, Train Acc: 0.2795, Val Loss: 2.0301, Val Acc: 0.2674\n",
            "Epoch 8/100, Train Loss: 2.0302, Train Acc: 0.2838, Val Loss: 2.0276, Val Acc: 0.2674\n",
            "Epoch 9/100, Train Loss: 2.0334, Train Acc: 0.2838, Val Loss: 2.0302, Val Acc: 0.2674\n",
            "Epoch 10/100, Train Loss: 2.0230, Train Acc: 0.2838, Val Loss: 2.0523, Val Acc: 0.2674\n",
            "Epoch 11/100, Train Loss: 2.0354, Train Acc: 0.2838, Val Loss: 2.0383, Val Acc: 0.2674\n",
            "Epoch 12/100, Train Loss: 2.0249, Train Acc: 0.2838, Val Loss: 2.0471, Val Acc: 0.2674\n",
            "Epoch 13/100, Train Loss: 2.1852, Train Acc: 0.2581, Val Loss: 2.1442, Val Acc: 0.2674\n",
            "Epoch 14/100, Train Loss: 2.0454, Train Acc: 0.2838, Val Loss: 2.0226, Val Acc: 0.2674\n",
            "Epoch 15/100, Train Loss: 2.0285, Train Acc: 0.2838, Val Loss: 2.0358, Val Acc: 0.2674\n",
            "Epoch 16/100, Train Loss: 2.0424, Train Acc: 0.2838, Val Loss: 2.0258, Val Acc: 0.2674\n",
            "Epoch 17/100, Train Loss: 2.0530, Train Acc: 0.2632, Val Loss: 2.0774, Val Acc: 0.2674\n",
            "Epoch 18/100, Train Loss: 2.0535, Train Acc: 0.2838, Val Loss: 2.0664, Val Acc: 0.2674\n",
            "Epoch 19/100, Train Loss: 2.0361, Train Acc: 0.2838, Val Loss: 2.0323, Val Acc: 0.2674\n",
            "Epoch 20/100, Train Loss: 2.0305, Train Acc: 0.2838, Val Loss: 2.0388, Val Acc: 0.2674\n",
            "Epoch 21/100, Train Loss: 2.0274, Train Acc: 0.2709, Val Loss: 2.0335, Val Acc: 0.2674\n",
            "Epoch 22/100, Train Loss: 2.0230, Train Acc: 0.2838, Val Loss: 2.0323, Val Acc: 0.2674\n",
            "Epoch 23/100, Train Loss: 2.0257, Train Acc: 0.2838, Val Loss: 2.0397, Val Acc: 0.2674\n",
            "Epoch 24/100, Train Loss: 2.0252, Train Acc: 0.2838, Val Loss: 2.0148, Val Acc: 0.2674\n",
            "Epoch 25/100, Train Loss: 2.0237, Train Acc: 0.2838, Val Loss: 2.0306, Val Acc: 0.2674\n",
            "Epoch 26/100, Train Loss: 2.0246, Train Acc: 0.2838, Val Loss: 2.0248, Val Acc: 0.2674\n",
            "Epoch 27/100, Train Loss: 2.0252, Train Acc: 0.2838, Val Loss: 2.0178, Val Acc: 0.2674\n",
            "Epoch 28/100, Train Loss: 2.0239, Train Acc: 0.2838, Val Loss: 2.0276, Val Acc: 0.2674\n",
            "Epoch 29/100, Train Loss: 2.0219, Train Acc: 0.2838, Val Loss: 2.0276, Val Acc: 0.2674\n",
            "Epoch 30/100, Train Loss: 2.0236, Train Acc: 0.2838, Val Loss: 2.0330, Val Acc: 0.2674\n",
            "Epoch 31/100, Train Loss: 2.0219, Train Acc: 0.2838, Val Loss: 2.0223, Val Acc: 0.2674\n",
            "Epoch 32/100, Train Loss: 2.0231, Train Acc: 0.2838, Val Loss: 2.0307, Val Acc: 0.2674\n",
            "Epoch 33/100, Train Loss: 2.0258, Train Acc: 0.2838, Val Loss: 2.0319, Val Acc: 0.2674\n",
            "Epoch 34/100, Train Loss: 2.0176, Train Acc: 0.2838, Val Loss: 2.0346, Val Acc: 0.2674\n",
            "Epoch 35/100, Train Loss: 2.0251, Train Acc: 0.2838, Val Loss: 2.0237, Val Acc: 0.2674\n",
            "Epoch 36/100, Train Loss: 2.0209, Train Acc: 0.2838, Val Loss: 2.0214, Val Acc: 0.2674\n",
            "Epoch 37/100, Train Loss: 2.0226, Train Acc: 0.2838, Val Loss: 2.0264, Val Acc: 0.2674\n",
            "Epoch 38/100, Train Loss: 2.0248, Train Acc: 0.2838, Val Loss: 2.0129, Val Acc: 0.2674\n",
            "Epoch 39/100, Train Loss: 2.0218, Train Acc: 0.2838, Val Loss: 2.0310, Val Acc: 0.2674\n",
            "Epoch 40/100, Train Loss: 2.0206, Train Acc: 0.2838, Val Loss: 2.0232, Val Acc: 0.2674\n",
            "Epoch 41/100, Train Loss: 2.0204, Train Acc: 0.2838, Val Loss: 2.0360, Val Acc: 0.2674\n",
            "Epoch 42/100, Train Loss: 2.0254, Train Acc: 0.2838, Val Loss: 2.0166, Val Acc: 0.2674\n",
            "Epoch 43/100, Train Loss: 2.0207, Train Acc: 0.2838, Val Loss: 2.0240, Val Acc: 0.2674\n",
            "Epoch 44/100, Train Loss: 2.0231, Train Acc: 0.2838, Val Loss: 2.0223, Val Acc: 0.2674\n",
            "Epoch 45/100, Train Loss: 2.0191, Train Acc: 0.2838, Val Loss: 2.0330, Val Acc: 0.2674\n",
            "Epoch 46/100, Train Loss: 2.0195, Train Acc: 0.2838, Val Loss: 2.0261, Val Acc: 0.2674\n",
            "Epoch 47/100, Train Loss: 2.0209, Train Acc: 0.2838, Val Loss: 2.0237, Val Acc: 0.2674\n",
            "Epoch 48/100, Train Loss: 2.0207, Train Acc: 0.2838, Val Loss: 2.0224, Val Acc: 0.2674\n",
            "Epoch 49/100, Train Loss: 2.0196, Train Acc: 0.2838, Val Loss: 2.0291, Val Acc: 0.2674\n",
            "Epoch 50/100, Train Loss: 2.0196, Train Acc: 0.2838, Val Loss: 2.0237, Val Acc: 0.2674\n",
            "Epoch 51/100, Train Loss: 2.0194, Train Acc: 0.2838, Val Loss: 2.0222, Val Acc: 0.2674\n",
            "Epoch 52/100, Train Loss: 2.0193, Train Acc: 0.2838, Val Loss: 2.0242, Val Acc: 0.2674\n",
            "Epoch 53/100, Train Loss: 2.0259, Train Acc: 0.2838, Val Loss: 2.0247, Val Acc: 0.2674\n",
            "Epoch 54/100, Train Loss: 2.0186, Train Acc: 0.2838, Val Loss: 2.0252, Val Acc: 0.2674\n",
            "Epoch 55/100, Train Loss: 2.0236, Train Acc: 0.2838, Val Loss: 2.0217, Val Acc: 0.2674\n",
            "Epoch 56/100, Train Loss: 2.0182, Train Acc: 0.2838, Val Loss: 2.0252, Val Acc: 0.2674\n",
            "Epoch 57/100, Train Loss: 2.0222, Train Acc: 0.2838, Val Loss: 2.0230, Val Acc: 0.2674\n",
            "Epoch 58/100, Train Loss: 2.0187, Train Acc: 0.2838, Val Loss: 2.0338, Val Acc: 0.2674\n",
            "Epoch 59/100, Train Loss: 2.0187, Train Acc: 0.2838, Val Loss: 2.0273, Val Acc: 0.2674\n",
            "Epoch 60/100, Train Loss: 2.0198, Train Acc: 0.2838, Val Loss: 2.0218, Val Acc: 0.2674\n",
            "Epoch 61/100, Train Loss: 2.0191, Train Acc: 0.2838, Val Loss: 2.0315, Val Acc: 0.2674\n",
            "Epoch 62/100, Train Loss: 2.0180, Train Acc: 0.2838, Val Loss: 2.0279, Val Acc: 0.2674\n",
            "Epoch 63/100, Train Loss: 2.0237, Train Acc: 0.2838, Val Loss: 2.0258, Val Acc: 0.2674\n",
            "Epoch 64/100, Train Loss: 2.0182, Train Acc: 0.2838, Val Loss: 2.0221, Val Acc: 0.2674\n",
            "Epoch 65/100, Train Loss: 2.0186, Train Acc: 0.2838, Val Loss: 2.0178, Val Acc: 0.2674\n",
            "Epoch 66/100, Train Loss: 2.0173, Train Acc: 0.2838, Val Loss: 2.0243, Val Acc: 0.2674\n",
            "Epoch 67/100, Train Loss: 2.0177, Train Acc: 0.2838, Val Loss: 2.0193, Val Acc: 0.2674\n",
            "Epoch 68/100, Train Loss: 2.0188, Train Acc: 0.2838, Val Loss: 2.0226, Val Acc: 0.2674\n",
            "Epoch 69/100, Train Loss: 2.0209, Train Acc: 0.2838, Val Loss: 2.0269, Val Acc: 0.2674\n",
            "Epoch 70/100, Train Loss: 2.0190, Train Acc: 0.2838, Val Loss: 2.0274, Val Acc: 0.2674\n",
            "Epoch 71/100, Train Loss: 2.0212, Train Acc: 0.2838, Val Loss: 2.0349, Val Acc: 0.2674\n",
            "Epoch 72/100, Train Loss: 2.0227, Train Acc: 0.2838, Val Loss: 2.0373, Val Acc: 0.2674\n",
            "Epoch 73/100, Train Loss: 2.0205, Train Acc: 0.2838, Val Loss: 2.0305, Val Acc: 0.2674\n",
            "Epoch 74/100, Train Loss: 2.0195, Train Acc: 0.2838, Val Loss: 2.0267, Val Acc: 0.2674\n",
            "Epoch 75/100, Train Loss: 2.0165, Train Acc: 0.2838, Val Loss: 2.0240, Val Acc: 0.2674\n",
            "Epoch 76/100, Train Loss: 2.0200, Train Acc: 0.2838, Val Loss: 2.0271, Val Acc: 0.2674\n",
            "Epoch 77/100, Train Loss: 2.0205, Train Acc: 0.2838, Val Loss: 2.0253, Val Acc: 0.2674\n",
            "Epoch 78/100, Train Loss: 2.0201, Train Acc: 0.2838, Val Loss: 2.0231, Val Acc: 0.2674\n",
            "Epoch 79/100, Train Loss: 2.0196, Train Acc: 0.2838, Val Loss: 2.0283, Val Acc: 0.2674\n",
            "Epoch 80/100, Train Loss: 2.0235, Train Acc: 0.2838, Val Loss: 2.0216, Val Acc: 0.2674\n",
            "Epoch 81/100, Train Loss: 2.0183, Train Acc: 0.2838, Val Loss: 2.0252, Val Acc: 0.2674\n",
            "Epoch 82/100, Train Loss: 2.0214, Train Acc: 0.2838, Val Loss: 2.0227, Val Acc: 0.2674\n",
            "Epoch 83/100, Train Loss: 2.0231, Train Acc: 0.2838, Val Loss: 2.0304, Val Acc: 0.2674\n",
            "Epoch 84/100, Train Loss: 2.0173, Train Acc: 0.2838, Val Loss: 2.0197, Val Acc: 0.2674\n",
            "Epoch 85/100, Train Loss: 2.0186, Train Acc: 0.2838, Val Loss: 2.0220, Val Acc: 0.2674\n",
            "Epoch 86/100, Train Loss: 2.0182, Train Acc: 0.2838, Val Loss: 2.0220, Val Acc: 0.2674\n",
            "Epoch 87/100, Train Loss: 2.0190, Train Acc: 0.2838, Val Loss: 2.0236, Val Acc: 0.2674\n",
            "Epoch 88/100, Train Loss: 2.0179, Train Acc: 0.2838, Val Loss: 2.0203, Val Acc: 0.2674\n",
            "Epoch 89/100, Train Loss: 2.0175, Train Acc: 0.2838, Val Loss: 2.0200, Val Acc: 0.2674\n",
            "Epoch 90/100, Train Loss: 2.0161, Train Acc: 0.2838, Val Loss: 2.0248, Val Acc: 0.2674\n",
            "Epoch 91/100, Train Loss: 2.0182, Train Acc: 0.2838, Val Loss: 2.0298, Val Acc: 0.2674\n",
            "Epoch 92/100, Train Loss: 2.0171, Train Acc: 0.2838, Val Loss: 2.0226, Val Acc: 0.2674\n",
            "Epoch 93/100, Train Loss: 2.0176, Train Acc: 0.2838, Val Loss: 2.0225, Val Acc: 0.2674\n",
            "Epoch 94/100, Train Loss: 2.0178, Train Acc: 0.2838, Val Loss: 2.0270, Val Acc: 0.2674\n",
            "Epoch 95/100, Train Loss: 2.0182, Train Acc: 0.2838, Val Loss: 2.0224, Val Acc: 0.2674\n",
            "Epoch 96/100, Train Loss: 2.0170, Train Acc: 0.2838, Val Loss: 2.0282, Val Acc: 0.2674\n",
            "Epoch 97/100, Train Loss: 2.0190, Train Acc: 0.2838, Val Loss: 2.0259, Val Acc: 0.2674\n",
            "Epoch 98/100, Train Loss: 2.0183, Train Acc: 0.2838, Val Loss: 2.0266, Val Acc: 0.2674\n",
            "Epoch 99/100, Train Loss: 2.0175, Train Acc: 0.2838, Val Loss: 2.0273, Val Acc: 0.2674\n",
            "Epoch 100/100, Train Loss: 2.0187, Train Acc: 0.2838, Val Loss: 2.0245, Val Acc: 0.2674\n"
          ]
        }
      ]
    },
    {
      "cell_type": "code",
      "source": [
        "# Baseline Results\n",
        "print(f\"\\nBaseline Validation Performance:\")\n",
        "print(f\"Final Validation Accuracy: {history['val_acc'][-1]:.4f}\")\n",
        "print(f\"Final Validation Loss: {history['val_loss'][-1]:.4f}\")\n",
        "\n",
        "# Plot Results\n",
        "plt.figure(figsize=(12, 4))\n",
        "plt.subplot(1, 2, 1)\n",
        "plt.plot(history['train_loss'], label='Train Loss')\n",
        "plt.plot(history['val_loss'], label='Val Loss')\n",
        "plt.title('Loss Over Epochs')\n",
        "plt.xlabel('Epoch')\n",
        "plt.ylabel('Loss')\n",
        "plt.legend()\n",
        "plt.subplot(1, 2, 2)\n",
        "plt.plot(history['train_acc'], label='Train Accuracy')\n",
        "plt.plot(history['val_acc'], label='Val Accuracy')\n",
        "plt.title('Accuracy Over Epochs')\n",
        "plt.xlabel('Epoch')\n",
        "plt.ylabel('Accuracy')\n",
        "plt.legend()\n",
        "plt.tight_layout()\n",
        "plt.show()"
      ],
      "metadata": {
        "colab": {
          "base_uri": "https://localhost:8080/",
          "height": 478
        },
        "id": "IWMqUzerH5cz",
        "outputId": "3066b205-6e66-49b9-fe2f-fb2e8292a653"
      },
      "execution_count": null,
      "outputs": [
        {
          "output_type": "stream",
          "name": "stdout",
          "text": [
            "\n",
            "Baseline Validation Performance:\n",
            "Final Validation Accuracy: 0.2674\n",
            "Final Validation Loss: 2.0245\n"
          ]
        },
        {
          "output_type": "display_data",
          "data": {
            "text/plain": [
              "<Figure size 1200x400 with 2 Axes>"
            ],
            "image/png": "[encoded data removed]"
          },
          "metadata": {}
        }
      ]
    },
    {
      "cell_type": "code",
      "source": [],
      "metadata": {
        "id": "dzjd8O6aH5gR"
      },
      "execution_count": null,
      "outputs": []
    },
    {
      "cell_type": "code",
      "source": [],
      "metadata": {
        "id": "4SSaa0x9H5jt"
      },
      "execution_count": null,
      "outputs": []
    }
  ]
}